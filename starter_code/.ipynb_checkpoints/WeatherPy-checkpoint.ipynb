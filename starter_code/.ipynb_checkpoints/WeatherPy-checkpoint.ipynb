{
 "cells": [
  {
   "cell_type": "markdown",
   "metadata": {},
   "source": [
    "# WeatherPy\n",
    "----\n",
    "\n",
    "#### Note\n",
    "* Instructions have been included for each segment. You do not have to follow them exactly, but they are included to help you think through the steps."
   ]
  },
  {
   "cell_type": "code",
   "execution_count": 6,
   "metadata": {
    "scrolled": true
   },
   "outputs": [],
   "source": [
    "# Dependencies\n",
    "import matplotlib.pyplot as plt\n",
    "import requests\n",
    "import numpy as np\n",
    "import pandas as pd\n",
    "from scipy import stats\n",
    "from scipy.stats import linregress\n",
    "\n",
    "# Import API key (Remember to change API keys in api_keys.py)\n",
    "from api_keys import weather_api_key\n",
    "\n",
    "# Import citipy\n",
    "from citipy import citipy\n",
    "\n",
    "# Import time to account for API call limit\n",
    "import time"
   ]
  },
  {
   "cell_type": "markdown",
   "metadata": {},
   "source": [
    "## Generate Cities List"
   ]
  },
  {
   "cell_type": "code",
   "execution_count": 7,
   "metadata": {},
   "outputs": [
    {
     "name": "stdout",
     "output_type": "stream",
     "text": [
      "592 unique cities have been selected.\n"
     ]
    }
   ],
   "source": [
    "# Creating empty lists for cities, contries and their latitudes and longitudes\n",
    "lat_lng_ls = []\n",
    "cities_ls = []\n",
    "countries_ls = []\n",
    "\n",
    "# Using np.random to generate random latitude and longitude pairs along the full range\n",
    "latitude = np.random.uniform(low = -90.0000, high = 90.0000, size = 1400)\n",
    "longitude = np.random.uniform(low = -180.0000, high = 180.0000, size = 1400)\n",
    "\n",
    "# Populating lat_lng list with generated latitudes and longitudes\n",
    "lat_lng_ls = zip(latitude, longitude)\n",
    "\n",
    "# Using citypy to look for nearest city with latitude and longitude\n",
    "for lat_lng in lat_lng_ls:\n",
    "    city_name = citipy.nearest_city(lat_lng[0], lat_lng[1]).city_name\n",
    "    country_name = citipy.nearest_city(lat_lng[0], lat_lng[1]).country_code\n",
    "    # for cities not already in cities, append cities_ls and countries_ls\n",
    "    if city_name not in cities_ls:\n",
    "        cities_ls.append(city_name)\n",
    "        countries_ls.append(country_name.upper())\n",
    "\n",
    "print(f'{len(cities_ls)} unique cities have been selected.')"
   ]
  },
  {
   "cell_type": "markdown",
   "metadata": {},
   "source": [
    "### Perform API Calls\n",
    "* Perform a weather check on each city using a series of successive API calls.\n",
    "* Include a print log of each city as it'sbeing processed (with the city number and city name).\n"
   ]
  },
  {
   "cell_type": "code",
   "execution_count": 8,
   "metadata": {
    "scrolled": true
   },
   "outputs": [],
   "source": [
    "# URL information\n",
    "url = \"http://api.openweathermap.org/data/2.5/weather?\"\n",
    "units = \"metric\"\n",
    "\n",
    "# Building partial URL query\n",
    "query_url = f\"{url}appid={weather_api_key}&units={units}&q=\""
   ]
  },
  {
   "cell_type": "code",
   "execution_count": 9,
   "metadata": {},
   "outputs": [
    {
     "name": "stdout",
     "output_type": "stream",
     "text": [
      "Beginning Data Retrieval\n",
      "-------------------------------\n",
      "Processing Record 1 of Set 1 | Hobart\n",
      "Processing Record 2 of Set 1 | Saint-Philippe\n",
      "Processing Record 3 of Set 1 | Gejiu\n",
      "Processing Record 4 of Set 1 | Acapulco de Juárez\n",
      "Processing Record 5 of Set 1 | Yurgamysh\n",
      "Processing Record 6 of Set 1 | Lüderitz\n",
      "Processing Record 7 of Set 1 | Mataura\n",
      "Processing Record 8 of Set 1 | Bluff\n",
      "Processing Record 9 of Set 1 | Staryy Nadym\n",
      "Processing Record 10 of Set 1 | Punta Arenas\n",
      "Processing Record 11 of Set 1 | Vaini\n",
      "Processing Record 12 of Set 1 | Kumul\n",
      "Processing Record 13 of Set 1 | Tuttlingen\n",
      "Processing Record 14 of Set 1 | Nome\n",
      "Processing Record 15 of Set 1 | Albany\n",
      "Processing Record 16 of Set 1 | Egvekinot\n",
      "Processing Record 17 of Set 1 | Tasiilaq\n",
      "Processing Record 18 of Set 1 | Norman Wells\n",
      "Processing Record 19 of Set 1 | Kapaa\n",
      "Processing Record 20 of Set 1 | Kloulklubed\n",
      "Processing Record 21 of Set 1 | Rikitea\n",
      "Processing Record 22 of Set 1 | Gizo Government Station\n",
      "Processing Record 23 of Set 1 | Dikson\n",
      "Processing Record 24 of Set 1 | Vanimo\n",
      "Processing Record 25 of Set 1 | Touros\n",
      "Processing Record 26 of Set 1 | Bambous Virieux\n",
      "Processing Record 27 of Set 1 | Baruun-Urt\n",
      "Processing Record 28 of Set 1 | Ponta do Sol\n",
      "Processing Record 29 of Set 1 | Diré\n",
      "Processing Record 30 of Set 1 | Port Alfred\n",
      "City not found. Skipping...\n",
      "Processing Record 32 of Set 1 | Upernavik\n",
      "Processing Record 33 of Set 1 | Kavieng\n",
      "Processing Record 34 of Set 1 | Quelimane\n",
      "City not found. Skipping...\n",
      "Processing Record 36 of Set 1 | Mahébourg\n",
      "Processing Record 37 of Set 1 | Seidu\n",
      "Processing Record 38 of Set 1 | Goderich\n",
      "Processing Record 39 of Set 1 | Ust'-Kut\n",
      "Processing Record 40 of Set 1 | Ushuaia\n",
      "Processing Record 41 of Set 1 | Katsuura\n",
      "Processing Record 42 of Set 1 | Barrow\n",
      "City not found. Skipping...\n",
      "City not found. Skipping...\n",
      "Processing Record 45 of Set 1 | Comodoro Rivadavia\n",
      "Processing Record 46 of Set 1 | Korla\n",
      "Processing Record 47 of Set 1 | Padang\n",
      "Processing Record 48 of Set 1 | Madimba\n",
      "Processing Record 49 of Set 1 | Lompoc\n",
      "Processing Record 50 of Set 1 | Pevek\n",
      "Processing Record 51 of Set 1 | Busselton\n",
      "Processing Record 52 of Set 1 | Fort Nelson\n",
      "Processing Record 53 of Set 1 | East London\n",
      "City not found. Skipping...\n",
      "Processing Record 55 of Set 1 | Tsimmerbude\n",
      "Please wait 10 seconds to allow for API call limit\n",
      "Processing Record 1 of Set 2 | Tazovsky\n",
      "Processing Record 2 of Set 2 | Saint-Joseph\n",
      "Processing Record 3 of Set 2 | San Cosme y Damián\n",
      "Processing Record 4 of Set 2 | Castro\n",
      "Processing Record 5 of Set 2 | Lloydminster\n",
      "Processing Record 6 of Set 2 | Isangel\n",
      "Processing Record 7 of Set 2 | Ilulissat\n",
      "Processing Record 8 of Set 2 | São João da Barra\n",
      "City not found. Skipping...\n",
      "City not found. Skipping...\n",
      "Processing Record 11 of Set 2 | Kinango\n",
      "Processing Record 12 of Set 2 | Poum\n",
      "Processing Record 13 of Set 2 | San Policarpo\n",
      "Processing Record 14 of Set 2 | Nikolskoye\n",
      "Processing Record 15 of Set 2 | Cape Town\n",
      "Processing Record 16 of Set 2 | Saint George\n",
      "Processing Record 17 of Set 2 | Nanortalik\n",
      "Processing Record 18 of Set 2 | Torbay\n",
      "Processing Record 19 of Set 2 | Saskylakh\n",
      "Processing Record 20 of Set 2 | Hermanus\n",
      "Processing Record 21 of Set 2 | Thompson\n",
      "Processing Record 22 of Set 2 | Sangar\n",
      "Processing Record 23 of Set 2 | Matara\n",
      "Processing Record 24 of Set 2 | Omboué\n",
      "Processing Record 25 of Set 2 | Mareeba\n",
      "City not found. Skipping...\n",
      "Processing Record 27 of Set 2 | New Norfolk\n",
      "Processing Record 28 of Set 2 | Greenville\n",
      "Processing Record 29 of Set 2 | Khatanga\n",
      "Processing Record 30 of Set 2 | Tuni\n",
      "City not found. Skipping...\n",
      "Processing Record 32 of Set 2 | Aklavik\n",
      "Processing Record 33 of Set 2 | George Town\n",
      "Processing Record 34 of Set 2 | Tilichiki\n",
      "Processing Record 35 of Set 2 | Port Elizabeth\n",
      "Processing Record 36 of Set 2 | Vao\n",
      "City not found. Skipping...\n",
      "Processing Record 38 of Set 2 | Jamestown\n",
      "Processing Record 39 of Set 2 | Provideniya\n",
      "Processing Record 40 of Set 2 | Butaritari\n",
      "City not found. Skipping...\n",
      "Processing Record 42 of Set 2 | Lewiston\n",
      "Processing Record 43 of Set 2 | Dongsheng\n",
      "Processing Record 44 of Set 2 | Ballina\n",
      "Processing Record 45 of Set 2 | Neyshabur\n",
      "Processing Record 46 of Set 2 | Chermoz\n",
      "Processing Record 47 of Set 2 | Sitka\n",
      "Processing Record 48 of Set 2 | Vardø\n",
      "Processing Record 49 of Set 2 | Marystown\n",
      "Processing Record 50 of Set 2 | Qaanaaq\n",
      "Processing Record 51 of Set 2 | Kruisfontein\n",
      "Processing Record 52 of Set 2 | Bambanglipuro\n",
      "City not found. Skipping...\n",
      "Processing Record 54 of Set 2 | Vestmannaeyjar\n",
      "Processing Record 55 of Set 2 | Salekhard\n",
      "Please wait 10 seconds to allow for API call limit\n",
      "Processing Record 1 of Set 3 | Paramonga\n",
      "Processing Record 2 of Set 3 | Marshalltown\n",
      "Processing Record 3 of Set 3 | St. Marys\n",
      "City not found. Skipping...\n",
      "Processing Record 5 of Set 3 | Hilo\n",
      "Processing Record 6 of Set 3 | Natal\n",
      "Processing Record 7 of Set 3 | Cherskiy\n",
      "Processing Record 8 of Set 3 | Atuona\n",
      "Processing Record 9 of Set 3 | Denpasar\n",
      "Processing Record 10 of Set 3 | Henties Bay\n",
      "Processing Record 11 of Set 3 | Cidreira\n",
      "Processing Record 12 of Set 3 | Puerto Ayora\n",
      "Processing Record 13 of Set 3 | Dhidhdhoo\n",
      "Processing Record 14 of Set 3 | Victor Harbor\n",
      "Processing Record 15 of Set 3 | García\n",
      "Processing Record 16 of Set 3 | Hambantota\n",
      "Processing Record 17 of Set 3 | San Miguel de Cozumel\n",
      "Processing Record 18 of Set 3 | Orsha\n",
      "Processing Record 19 of Set 3 | Altay\n",
      "Processing Record 20 of Set 3 | Qaqortoq\n",
      "Processing Record 21 of Set 3 | Ayní\n",
      "Processing Record 22 of Set 3 | Jalu\n",
      "Processing Record 23 of Set 3 | Kiama\n",
      "Processing Record 24 of Set 3 | Pisco\n",
      "Processing Record 25 of Set 3 | Husavik\n",
      "Processing Record 26 of Set 3 | Wajid\n",
      "Processing Record 27 of Set 3 | Saint Paul Harbor\n",
      "Processing Record 28 of Set 3 | Kununurra\n",
      "Processing Record 29 of Set 3 | Tuatapere\n",
      "Processing Record 30 of Set 3 | Asahikawa\n",
      "Processing Record 31 of Set 3 | Chokurdakh\n",
      "Processing Record 32 of Set 3 | Santa Maria\n",
      "Processing Record 33 of Set 3 | Cogoleto\n",
      "Processing Record 34 of Set 3 | Muisne\n",
      "Processing Record 35 of Set 3 | Fairbanks\n",
      "Processing Record 36 of Set 3 | Mel'nikovo\n",
      "Processing Record 37 of Set 3 | Funtua\n",
      "Processing Record 38 of Set 3 | Nicoya\n",
      "Processing Record 39 of Set 3 | Busia\n",
      "Processing Record 40 of Set 3 | Rozhyshche\n",
      "Processing Record 41 of Set 3 | Quimper\n",
      "Processing Record 42 of Set 3 | Port Augusta\n",
      "Processing Record 43 of Set 3 | Hirara\n",
      "Processing Record 44 of Set 3 | Longyearbyen\n",
      "Processing Record 45 of Set 3 | Okhotsk\n",
      "Processing Record 46 of Set 3 | Ashington\n",
      "Processing Record 47 of Set 3 | Sola\n",
      "Processing Record 48 of Set 3 | Te Anau\n",
      "Processing Record 49 of Set 3 | Kalevala\n",
      "Processing Record 50 of Set 3 | Mar del Plata\n",
      "Processing Record 51 of Set 3 | Fuling\n",
      "Processing Record 52 of Set 3 | Esperance\n",
      "Processing Record 53 of Set 3 | Zolotyy Potik\n",
      "Processing Record 54 of Set 3 | Havøysund\n",
      "Processing Record 55 of Set 3 | Conceição da Barra\n",
      "Please wait 10 seconds to allow for API call limit\n",
      "Processing Record 1 of Set 4 | Ribeira Grande\n",
      "City not found. Skipping...\n",
      "Processing Record 3 of Set 4 | Matadi\n",
      "Processing Record 4 of Set 4 | Dingle\n",
      "Processing Record 5 of Set 4 | Rundu\n",
      "Processing Record 6 of Set 4 | Killybegs\n",
      "Processing Record 7 of Set 4 | San Angelo\n",
      "Processing Record 8 of Set 4 | Mossendjo\n",
      "City not found. Skipping...\n",
      "Processing Record 10 of Set 4 | San Juan del Sur\n",
      "Processing Record 11 of Set 4 | São Filipe\n",
      "Processing Record 12 of Set 4 | Kainantu\n",
      "Processing Record 13 of Set 4 | Uyuni\n",
      "Processing Record 14 of Set 4 | Itarema\n",
      "Processing Record 15 of Set 4 | Bredasdorp\n",
      "City not found. Skipping...\n",
      "Processing Record 17 of Set 4 | Kirakira\n",
      "Processing Record 18 of Set 4 | Tura\n",
      "Processing Record 19 of Set 4 | Tiksi\n",
      "Processing Record 20 of Set 4 | Hamilton\n",
      "City not found. Skipping...\n",
      "Processing Record 22 of Set 4 | Bull Savanna\n",
      "Processing Record 23 of Set 4 | Tuktoyaktuk\n",
      "Processing Record 24 of Set 4 | Lázaro Cárdenas\n",
      "Processing Record 25 of Set 4 | Zhigansk\n",
      "Processing Record 26 of Set 4 | Wanning\n",
      "Processing Record 27 of Set 4 | Sistranda\n",
      "Processing Record 28 of Set 4 | Tocopilla\n",
      "Processing Record 29 of Set 4 | Pergamino\n",
      "Processing Record 30 of Set 4 | Bathsheba\n",
      "Processing Record 31 of Set 4 | Alofi\n",
      "Processing Record 32 of Set 4 | Saint-Pierre\n",
      "Processing Record 33 of Set 4 | Forsytheganj\n"
     ]
    },
    {
     "name": "stdout",
     "output_type": "stream",
     "text": [
      "Processing Record 34 of Set 4 | Avera\n",
      "Processing Record 35 of Set 4 | Port Moresby\n",
      "Processing Record 36 of Set 4 | Santa Cruz de la Sierra\n",
      "City not found. Skipping...\n",
      "Processing Record 38 of Set 4 | Gbarnga\n",
      "City not found. Skipping...\n",
      "Processing Record 40 of Set 4 | Barra do Garças\n",
      "Processing Record 41 of Set 4 | Alice Springs\n",
      "Processing Record 42 of Set 4 | Los Llanos de Aridane\n",
      "Processing Record 43 of Set 4 | Leningradskiy\n",
      "Processing Record 44 of Set 4 | Kaitangata\n",
      "Processing Record 45 of Set 4 | Maniitsoq\n",
      "Processing Record 46 of Set 4 | Yar-Sale\n",
      "Processing Record 47 of Set 4 | Srednekolymsk\n",
      "Processing Record 48 of Set 4 | Birao\n",
      "Processing Record 49 of Set 4 | Puerto Ayacucho\n",
      "Processing Record 50 of Set 4 | Pangody\n",
      "Processing Record 51 of Set 4 | Mount Gambier\n",
      "Processing Record 52 of Set 4 | Leshukonskoye\n",
      "Processing Record 53 of Set 4 | Lebu\n",
      "Processing Record 54 of Set 4 | Airai\n",
      "Processing Record 55 of Set 4 | Baker City\n",
      "Please wait 10 seconds to allow for API call limit\n",
      "Processing Record 1 of Set 5 | Cayenne\n",
      "Processing Record 2 of Set 5 | Santa Fe\n",
      "Processing Record 3 of Set 5 | Lucknow\n",
      "Processing Record 4 of Set 5 | Lorengau\n",
      "Processing Record 5 of Set 5 | Nadvoitsy\n",
      "Processing Record 6 of Set 5 | Walvis Bay\n",
      "City not found. Skipping...\n",
      "City not found. Skipping...\n",
      "Processing Record 9 of Set 5 | Clyde River\n",
      "Processing Record 10 of Set 5 | Alenquer\n",
      "City not found. Skipping...\n",
      "Processing Record 12 of Set 5 | Banugao\n",
      "Processing Record 13 of Set 5 | Las Matas de Farfán\n",
      "Processing Record 14 of Set 5 | Warwick\n",
      "Processing Record 15 of Set 5 | Maceió\n",
      "Processing Record 16 of Set 5 | Pacifica\n",
      "Processing Record 17 of Set 5 | Ambanja\n",
      "Processing Record 18 of Set 5 | Hithadhoo\n",
      "Processing Record 19 of Set 5 | Port Macquarie\n",
      "Processing Record 20 of Set 5 | Talcahuano\n",
      "Processing Record 21 of Set 5 | Chui\n",
      "Processing Record 22 of Set 5 | Chiang Khong\n",
      "Processing Record 23 of Set 5 | Vostok\n",
      "Processing Record 24 of Set 5 | Waddān\n",
      "Processing Record 25 of Set 5 | Troitsko-Pechorsk\n",
      "Processing Record 26 of Set 5 | Murmashi\n",
      "City not found. Skipping...\n",
      "Processing Record 28 of Set 5 | Iqaluit\n",
      "Processing Record 29 of Set 5 | Bandarbeyla\n",
      "City not found. Skipping...\n",
      "Processing Record 31 of Set 5 | Yellowknife\n",
      "City not found. Skipping...\n",
      "Processing Record 33 of Set 5 | Port Hedland\n",
      "Processing Record 34 of Set 5 | Vila Velha\n",
      "Processing Record 35 of Set 5 | Mutoko\n",
      "Processing Record 36 of Set 5 | Ende\n",
      "Processing Record 37 of Set 5 | Petropavlovsk-Kamchatskiy\n",
      "Processing Record 38 of Set 5 | Usoke\n",
      "Processing Record 39 of Set 5 | Yerbogachën\n",
      "Processing Record 40 of Set 5 | Rome\n",
      "Processing Record 41 of Set 5 | Cabo San Lucas\n",
      "Processing Record 42 of Set 5 | Departamento de Maldonado\n",
      "City not found. Skipping...\n",
      "Processing Record 44 of Set 5 | Vila\n",
      "Processing Record 45 of Set 5 | Wiwilí\n",
      "Processing Record 46 of Set 5 | Uzunovo\n",
      "Processing Record 47 of Set 5 | Thinadhoo\n",
      "Processing Record 48 of Set 5 | Te Karaka\n",
      "Processing Record 49 of Set 5 | Guerrero Negro\n",
      "Processing Record 50 of Set 5 | Geraldton\n",
      "Processing Record 51 of Set 5 | San Patricio\n",
      "Processing Record 52 of Set 5 | Bismarck\n",
      "Processing Record 53 of Set 5 | Arraial do Cabo\n",
      "Processing Record 54 of Set 5 | Rawson\n",
      "Processing Record 55 of Set 5 | Kiryat Gat\n",
      "Please wait 10 seconds to allow for API call limit\n",
      "Processing Record 1 of Set 6 | Minas\n",
      "Processing Record 2 of Set 6 | Chapais\n",
      "Processing Record 3 of Set 6 | Narsaq\n",
      "Processing Record 4 of Set 6 | Dzhebariki-Khaya\n",
      "Processing Record 5 of Set 6 | Palmerston North\n",
      "Processing Record 6 of Set 6 | Solana Beach\n",
      "Processing Record 7 of Set 6 | Jonava\n",
      "Processing Record 8 of Set 6 | Xai-Xai\n",
      "Processing Record 9 of Set 6 | Cheney\n",
      "Processing Record 10 of Set 6 | Bereket\n",
      "Processing Record 11 of Set 6 | Moussoro\n",
      "Processing Record 12 of Set 6 | Coyhaique\n",
      "City not found. Skipping...\n",
      "Processing Record 14 of Set 6 | North Bend\n",
      "Processing Record 15 of Set 6 | Nuuk\n",
      "Processing Record 16 of Set 6 | Zhangye\n",
      "Processing Record 17 of Set 6 | Poso\n",
      "Processing Record 18 of Set 6 | Moncton\n",
      "Processing Record 19 of Set 6 | Kitzbühel\n",
      "Processing Record 20 of Set 6 | Constitución\n",
      "Processing Record 21 of Set 6 | Pantai Remis\n",
      "Processing Record 22 of Set 6 | Bilibino\n",
      "Processing Record 23 of Set 6 | Kavaratti\n",
      "Processing Record 24 of Set 6 | Cabedelo\n",
      "Processing Record 25 of Set 6 | Port Blair\n",
      "Processing Record 26 of Set 6 | Mulchén\n",
      "Processing Record 27 of Set 6 | Kantunilkín\n",
      "Processing Record 28 of Set 6 | Severo-Kuril'sk\n",
      "Processing Record 29 of Set 6 | Hokitika\n",
      "Processing Record 30 of Set 6 | Guanambi\n",
      "Processing Record 31 of Set 6 | Atar\n",
      "Processing Record 32 of Set 6 | Port Keats\n",
      "Processing Record 33 of Set 6 | Baft\n",
      "Processing Record 34 of Set 6 | Berlevåg\n",
      "Processing Record 35 of Set 6 | Carnarvon\n",
      "Processing Record 36 of Set 6 | Nabire\n",
      "Processing Record 37 of Set 6 | Hong Kong\n",
      "Processing Record 38 of Set 6 | Vila Franca do Campo\n",
      "Processing Record 39 of Set 6 | San Ramon\n",
      "Processing Record 40 of Set 6 | Aarhus\n",
      "Processing Record 41 of Set 6 | Dayong\n",
      "Processing Record 42 of Set 6 | Mabaruma\n",
      "Processing Record 43 of Set 6 | Bubaque\n",
      "Processing Record 44 of Set 6 | Codrington\n",
      "Processing Record 45 of Set 6 | Iralaya\n",
      "Processing Record 46 of Set 6 | Los Alamos\n",
      "Processing Record 47 of Set 6 | Iaciara\n",
      "Processing Record 48 of Set 6 | São José da Coroa Grande\n",
      "Processing Record 49 of Set 6 | Lismore\n",
      "Processing Record 50 of Set 6 | Bowen\n",
      "Processing Record 51 of Set 6 | Krasnosel'kup\n",
      "City not found. Skipping...\n",
      "Processing Record 53 of Set 6 | Bilma\n",
      "Processing Record 54 of Set 6 | Nichinan\n",
      "Processing Record 55 of Set 6 | Shingū\n",
      "Please wait 10 seconds to allow for API call limit\n",
      "Processing Record 1 of Set 7 | Murgab\n",
      "Processing Record 2 of Set 7 | Ulaanbaatar\n",
      "Processing Record 3 of Set 7 | Stykkisholmur\n",
      "City not found. Skipping...\n",
      "Processing Record 5 of Set 7 | Hasaki\n",
      "Processing Record 6 of Set 7 | Brownsville\n",
      "Processing Record 7 of Set 7 | Jutaí\n",
      "Processing Record 8 of Set 7 | Orán\n",
      "Processing Record 9 of Set 7 | Bollnäs\n",
      "Processing Record 10 of Set 7 | Hervey Bay\n",
      "Processing Record 11 of Set 7 | Inuvik\n",
      "Processing Record 12 of Set 7 | Naze\n",
      "City not found. Skipping...\n",
      "Processing Record 14 of Set 7 | Ust'-Omchug\n",
      "Processing Record 15 of Set 7 | Tefé\n",
      "Processing Record 16 of Set 7 | Dărmăneşti\n",
      "Processing Record 17 of Set 7 | Kamenka\n",
      "Processing Record 18 of Set 7 | Maragogi\n",
      "Processing Record 19 of Set 7 | Olafsvik\n",
      "Processing Record 20 of Set 7 | Tommot\n",
      "City not found. Skipping...\n",
      "Processing Record 22 of Set 7 | Am Timan\n",
      "Processing Record 23 of Set 7 | Tayturka\n",
      "City not found. Skipping...\n",
      "Processing Record 25 of Set 7 | Øksfjord\n",
      "City not found. Skipping...\n",
      "Processing Record 27 of Set 7 | Kirensk\n",
      "Processing Record 28 of Set 7 | Victoria Point\n",
      "Processing Record 29 of Set 7 | West Helena\n",
      "Processing Record 30 of Set 7 | Olinda\n",
      "Processing Record 31 of Set 7 | São Miguel do Araguaia\n",
      "Processing Record 32 of Set 7 | General Pico\n",
      "Processing Record 33 of Set 7 | Maltahöhe\n",
      "Processing Record 34 of Set 7 | Pangkalanbuun\n",
      "Processing Record 35 of Set 7 | Sambava\n",
      "Processing Record 36 of Set 7 | Vrangel'\n",
      "Processing Record 37 of Set 7 | Sayyan\n",
      "Processing Record 38 of Set 7 | Zhob\n",
      "Processing Record 39 of Set 7 | Aquiraz\n",
      "Processing Record 40 of Set 7 | Marawi\n",
      "Processing Record 41 of Set 7 | Napoleon\n",
      "Processing Record 42 of Set 7 | Astoria\n",
      "City not found. Skipping...\n",
      "Processing Record 44 of Set 7 | Beringovskiy\n",
      "Processing Record 45 of Set 7 | Bethel\n",
      "Processing Record 46 of Set 7 | Marquette\n",
      "Processing Record 47 of Set 7 | Magway\n",
      "Processing Record 48 of Set 7 | Bosobolo\n",
      "Processing Record 49 of Set 7 | Baiyin\n",
      "Processing Record 50 of Set 7 | Aykhal\n",
      "Processing Record 51 of Set 7 | Bahía Blanca\n",
      "Processing Record 52 of Set 7 | Mamu Kanjan\n",
      "Processing Record 53 of Set 7 | Camaná\n",
      "Processing Record 54 of Set 7 | Pemangkat\n",
      "Processing Record 55 of Set 7 | Ingham\n",
      "Please wait 10 seconds to allow for API call limit\n",
      "Processing Record 1 of Set 8 | Pacific Grove\n",
      "Processing Record 2 of Set 8 | Khandyga\n",
      "Processing Record 3 of Set 8 | Nago\n",
      "Processing Record 4 of Set 8 | Minbu\n",
      "Processing Record 5 of Set 8 | Shitanjing\n",
      "Processing Record 6 of Set 8 | Stephenville\n",
      "Processing Record 7 of Set 8 | Cedral\n",
      "Processing Record 8 of Set 8 | Tshane\n",
      "Processing Record 9 of Set 8 | Pangnirtung\n",
      "City not found. Skipping...\n"
     ]
    },
    {
     "name": "stdout",
     "output_type": "stream",
     "text": [
      "Processing Record 11 of Set 8 | San Cristobal\n",
      "Processing Record 12 of Set 8 | Novy Urengoy\n",
      "Processing Record 13 of Set 8 | Seoul\n",
      "Processing Record 14 of Set 8 | Lixouri\n",
      "City not found. Skipping...\n",
      "Processing Record 16 of Set 8 | Southbridge\n",
      "Processing Record 17 of Set 8 | Acacoyagua\n",
      "Processing Record 18 of Set 8 | Biak\n",
      "Processing Record 19 of Set 8 | Yabassi\n",
      "Processing Record 20 of Set 8 | Soyo\n",
      "Processing Record 21 of Set 8 | Lusambo\n",
      "Processing Record 22 of Set 8 | Conceição das Alagoas\n",
      "Processing Record 23 of Set 8 | Sri Aman\n",
      "Processing Record 24 of Set 8 | Zheleznodorozhnyy\n",
      "Processing Record 25 of Set 8 | Broome\n",
      "Processing Record 26 of Set 8 | Diffa\n",
      "Processing Record 27 of Set 8 | Talnakh\n",
      "Processing Record 28 of Set 8 | Omsukchan\n",
      "Processing Record 29 of Set 8 | Soria\n",
      "Processing Record 30 of Set 8 | Yelizovo\n",
      "City not found. Skipping...\n",
      "Processing Record 32 of Set 8 | Mossamedes\n",
      "Processing Record 33 of Set 8 | Polunochnoye\n",
      "Processing Record 34 of Set 8 | Illapel\n",
      "Processing Record 35 of Set 8 | Fortuna\n",
      "Processing Record 36 of Set 8 | Souillac\n",
      "City not found. Skipping...\n",
      "Processing Record 38 of Set 8 | Necochea\n",
      "Processing Record 39 of Set 8 | Antsohihy\n",
      "Processing Record 40 of Set 8 | Sumenep\n",
      "Processing Record 41 of Set 8 | Farah\n",
      "Processing Record 42 of Set 8 | Hinganghāt\n",
      "Processing Record 43 of Set 8 | Turukhansk\n",
      "Processing Record 44 of Set 8 | Glendive\n",
      "Processing Record 45 of Set 8 | Aksarka\n",
      "Processing Record 46 of Set 8 | Mońki\n",
      "Processing Record 47 of Set 8 | Terra Santa\n",
      "Processing Record 48 of Set 8 | Sabang\n",
      "Processing Record 49 of Set 8 | Bengkulu\n",
      "Processing Record 50 of Set 8 | Faanui\n",
      "Processing Record 51 of Set 8 | Moranbah\n",
      "Processing Record 52 of Set 8 | Ust'-Karsk\n",
      "Processing Record 53 of Set 8 | Keningau\n",
      "Processing Record 54 of Set 8 | Härnösand\n",
      "Processing Record 55 of Set 8 | Susuman\n",
      "Please wait 10 seconds to allow for API call limit\n",
      "Processing Record 1 of Set 9 | Zduńska Wola\n",
      "Processing Record 2 of Set 9 | Mangochi\n",
      "Processing Record 3 of Set 9 | Amboise\n",
      "Processing Record 4 of Set 9 | Darnah\n",
      "Processing Record 5 of Set 9 | Moose Factory\n",
      "Processing Record 6 of Set 9 | Benghazi\n",
      "Processing Record 7 of Set 9 | Linkuva\n",
      "Processing Record 8 of Set 9 | Old Town\n",
      "Processing Record 9 of Set 9 | Vilyuysk\n",
      "Processing Record 10 of Set 9 | Solnechnyy\n",
      "City not found. Skipping...\n",
      "Processing Record 12 of Set 9 | Morro Bay\n",
      "Processing Record 13 of Set 9 | Hof\n",
      "Processing Record 14 of Set 9 | Dipalpur\n",
      "Processing Record 15 of Set 9 | Izumo\n",
      "Processing Record 16 of Set 9 | Laufen\n",
      "City not found. Skipping...\n",
      "Processing Record 18 of Set 9 | Along\n",
      "Processing Record 19 of Set 9 | Mardin\n",
      "Processing Record 20 of Set 9 | Banda Aceh\n",
      "Processing Record 21 of Set 9 | Almaznyy\n",
      "Processing Record 22 of Set 9 | Sakakah\n",
      "Processing Record 23 of Set 9 | Meulaboh\n",
      "Processing Record 24 of Set 9 | Newport\n",
      "Processing Record 25 of Set 9 | Nizwá\n",
      "Processing Record 26 of Set 9 | Matagami\n",
      "Processing Record 27 of Set 9 | Tiarei\n",
      "Processing Record 28 of Set 9 | Elizabeth City\n",
      "Processing Record 29 of Set 9 | Egersund\n",
      "Processing Record 30 of Set 9 | Klaksvík\n",
      "Processing Record 31 of Set 9 | Chiredzi\n",
      "Processing Record 32 of Set 9 | Rūdbār\n",
      "Processing Record 33 of Set 9 | Villamontes\n",
      "Processing Record 34 of Set 9 | Lākheri\n",
      "Processing Record 35 of Set 9 | Manali\n",
      "Processing Record 36 of Set 9 | Praia\n",
      "Processing Record 37 of Set 9 | Lavrentiya\n",
      "Processing Record 38 of Set 9 | Chuguyevka\n",
      "Processing Record 39 of Set 9 | Kutum\n",
      "Processing Record 40 of Set 9 | Severobaykal'sk\n",
      "Processing Record 41 of Set 9 | Senaki\n",
      "Processing Record 42 of Set 9 | Ancud\n",
      "Processing Record 43 of Set 9 | Coahuayana Viejo\n",
      "City not found. Skipping...\n",
      "Processing Record 45 of Set 9 | Bairiki Village\n",
      "Processing Record 46 of Set 9 | Takoradze\n",
      "Processing Record 47 of Set 9 | Chipinge\n",
      "Processing Record 48 of Set 9 | Red Bluff\n",
      "Processing Record 49 of Set 9 | At-Bashi\n",
      "Processing Record 50 of Set 9 | Lagoa\n",
      "Processing Record 51 of Set 9 | Hornepayne\n",
      "Processing Record 52 of Set 9 | Ghanzi\n",
      "Processing Record 53 of Set 9 | Xinqing\n",
      "Processing Record 54 of Set 9 | Orangeburg\n",
      "Processing Record 55 of Set 9 | Dunedin\n",
      "Please wait 10 seconds to allow for API call limit\n",
      "Processing Record 1 of Set 10 | Flinders\n",
      "Processing Record 2 of Set 10 | Ewo\n",
      "Processing Record 3 of Set 10 | Imeni Poliny Osipenko\n",
      "Processing Record 4 of Set 10 | Esim\n",
      "Processing Record 5 of Set 10 | Hofn\n",
      "Processing Record 6 of Set 10 | Wanaka\n",
      "Processing Record 7 of Set 10 | Ulaangom\n",
      "Processing Record 8 of Set 10 | Portland\n",
      "Processing Record 9 of Set 10 | Ascension\n",
      "City not found. Skipping...\n",
      "Processing Record 11 of Set 10 | Xichang\n",
      "Processing Record 12 of Set 10 | Phang Nga\n",
      "Processing Record 13 of Set 10 | Sirajganj\n",
      "Processing Record 14 of Set 10 | Turaif\n",
      "Processing Record 15 of Set 10 | Imbituba\n",
      "Processing Record 16 of Set 10 | Poronaysk\n",
      "Processing Record 17 of Set 10 | Darhan\n",
      "Processing Record 18 of Set 10 | Zyryanka\n",
      "Processing Record 19 of Set 10 | Barra de Tecoanapa\n",
      "Processing Record 20 of Set 10 | Seddon\n",
      "Processing Record 21 of Set 10 | Shimoda\n",
      "Processing Record 22 of Set 10 | Jaqué\n",
      "Processing Record 23 of Set 10 | Dubovka\n",
      "Processing Record 24 of Set 10 | Chitral\n",
      "Processing Record 25 of Set 10 | Dakar\n",
      "Processing Record 26 of Set 10 | Miyang\n",
      "Processing Record 27 of Set 10 | Świdnik\n",
      "Processing Record 28 of Set 10 | Shatrovo\n",
      "Processing Record 29 of Set 10 | Laas\n",
      "Processing Record 30 of Set 10 | Caravelas\n",
      "Processing Record 31 of Set 10 | Álamos\n",
      "Processing Record 32 of Set 10 | Cockburn Town\n",
      "Processing Record 33 of Set 10 | Plettenberg Bay\n",
      "Processing Record 34 of Set 10 | Westport\n",
      "Processing Record 35 of Set 10 | Contramaestre\n",
      "Processing Record 36 of Set 10 | Avarua\n",
      "Processing Record 37 of Set 10 | Danville\n",
      "Processing Record 38 of Set 10 | Frankfort\n",
      "Processing Record 39 of Set 10 | Kahului\n",
      "Processing Record 40 of Set 10 | Namatanai\n",
      "Processing Record 41 of Set 10 | Tessalit\n",
      "Processing Record 42 of Set 10 | Maningrida\n",
      "Processing Record 43 of Set 10 | Krasnokamensk\n",
      "Processing Record 44 of Set 10 | Nemuro\n",
      "Processing Record 45 of Set 10 | Richards Bay\n",
      "Processing Record 46 of Set 10 | Dauphin\n",
      "Processing Record 47 of Set 10 | Winsum\n",
      "Processing Record 48 of Set 10 | Ikwiriri\n",
      "Processing Record 49 of Set 10 | Port Lincoln\n",
      "Processing Record 50 of Set 10 | Manavgat\n",
      "Processing Record 51 of Set 10 | Dickinson\n",
      "City not found. Skipping...\n",
      "Processing Record 53 of Set 10 | Ürümqi\n",
      "Processing Record 54 of Set 10 | Sørland\n",
      "Processing Record 55 of Set 10 | Mwinilunga\n",
      "Please wait 10 seconds to allow for API call limit\n",
      "Processing Record 1 of Set 11 | Fomboni\n",
      "Processing Record 2 of Set 11 | Jaciara\n",
      "Processing Record 3 of Set 11 | Pringsewu\n",
      "Processing Record 4 of Set 11 | San Ignacio\n",
      "Processing Record 5 of Set 11 | Hayvoron\n",
      "Processing Record 6 of Set 11 | Pedernales\n",
      "City not found. Skipping...\n",
      "Processing Record 8 of Set 11 | Auki\n",
      "Processing Record 9 of Set 11 | Mapiripán\n",
      "Processing Record 10 of Set 11 | San Jose\n",
      "Processing Record 11 of Set 11 | Camopi\n",
      "Processing Record 12 of Set 11 | Lysyye Gory\n",
      "Processing Record 13 of Set 11 | Talara\n",
      "City not found. Skipping...\n",
      "Processing Record 15 of Set 11 | Cândido Mendes\n",
      "Processing Record 16 of Set 11 | Karangampel\n",
      "Processing Record 17 of Set 11 | Riyadh\n",
      "City not found. Skipping...\n",
      "Processing Record 19 of Set 11 | Dmitriyevka\n",
      "Processing Record 20 of Set 11 | Hobyo\n",
      "Processing Record 21 of Set 11 | Charlestown\n",
      "Processing Record 22 of Set 11 | Irbeyskoye\n",
      "Processing Record 23 of Set 11 | Oranjestad\n",
      "Processing Record 24 of Set 11 | Ostrovnoy\n",
      "City not found. Skipping...\n",
      "Processing Record 26 of Set 11 | La Ronge\n",
      "Processing Record 27 of Set 11 | Williston\n",
      "Processing Record 28 of Set 11 | Baghdad\n",
      "Processing Record 29 of Set 11 | Makakilo City\n",
      "Processing Record 30 of Set 11 | Iberia\n",
      "Processing Record 31 of Set 11 | Carutapera\n",
      "Processing Record 32 of Set 11 | Labytnangi\n",
      "City not found. Skipping...\n",
      "Processing Record 34 of Set 11 | Crotone\n",
      "Processing Record 35 of Set 11 | Vallenar\n",
      "Processing Record 36 of Set 11 | Sennar\n",
      "Processing Record 37 of Set 11 | Hualmay\n",
      "Processing Record 38 of Set 11 | Kendal\n",
      "Processing Record 39 of Set 11 | Yulara\n",
      "Processing Record 40 of Set 11 | Catalina\n",
      "Processing Record 41 of Set 11 | Ambilobe\n",
      "Processing Record 42 of Set 11 | Nhulunbuy\n",
      "-----------------------------\n",
      "Data Retrieval Complete\n",
      "-----------------------------\n"
     ]
    }
   ],
   "source": [
    "# Set up lists to hold response information\n",
    "city_name = []\n",
    "country = []\n",
    "lat = []\n",
    "lng = []\n",
    "date = []\n",
    "cloudiness = []\n",
    "humidity = []\n",
    "max_temp = []\n",
    "wind_speed = []\n",
    "\n",
    "# Set initial count for Record and Set number\n",
    "record_count = 0\n",
    "set_count = 1\n",
    "\n",
    "# Begin data retrieval\n",
    "print(f\"Beginning Data Retrieval\")\n",
    "print(f\"-------------------------------\")\n",
    "\n",
    "# Loop through each city in cities_ls\n",
    "for city in cities_ls:\n",
    "    \n",
    "    response = requests.get(query_url + city).json()\n",
    "    record_count = record_count + 1\n",
    "    # Try to find city in API, if it is found, append information to lists\n",
    "    try:\n",
    "        # Log print of processing\n",
    "        print(f\"Processing Record {record_count} of Set {set_count} | {response['name']}\")\n",
    "        \n",
    "        # Append lists with information requested\n",
    "        city_name.append(response[\"name\"])\n",
    "        country.append(response[\"sys\"][\"country\"])\n",
    "        lat.append(response['coord']['lat'])\n",
    "        lng.append(response['coord']['lon'])\n",
    "        date.append(response['dt'])\n",
    "        cloudiness.append(response['clouds']['all'])\n",
    "        humidity.append(response['main']['humidity'])\n",
    "        max_temp.append(response['main']['temp_max'])\n",
    "        wind_speed.append(response['wind']['speed'])\n",
    "        \n",
    "        # Keep track of record count\n",
    "#         record_count = record_count + 1\n",
    "    \n",
    "    # If city is not found, print not found\n",
    "    except:\n",
    "        print(\"City not found. Skipping...\")\n",
    "        \n",
    "    # Handling API call limits\n",
    "    if record_count == 55:\n",
    "        print(\"Please wait 10 seconds to allow for API call limit\")\n",
    "        set_count = set_count + 1\n",
    "        record_count = 0\n",
    "        time.sleep(10)\n",
    "\n",
    "print(\"-----------------------------\")\n",
    "print(\"Data Retrieval Complete\")      \n",
    "print(\"-----------------------------\")"
   ]
  },
  {
   "cell_type": "markdown",
   "metadata": {},
   "source": [
    "### Convert Raw Data to DataFrame\n",
    "* Export the city data into a .csv.\n",
    "* Display the DataFrame"
   ]
  },
  {
   "cell_type": "code",
   "execution_count": 14,
   "metadata": {},
   "outputs": [
    {
     "data": {
      "text/html": [
       "<div>\n",
       "<style scoped>\n",
       "    .dataframe tbody tr th:only-of-type {\n",
       "        vertical-align: middle;\n",
       "    }\n",
       "\n",
       "    .dataframe tbody tr th {\n",
       "        vertical-align: top;\n",
       "    }\n",
       "\n",
       "    .dataframe thead th {\n",
       "        text-align: right;\n",
       "    }\n",
       "</style>\n",
       "<table border=\"1\" class=\"dataframe\">\n",
       "  <thead>\n",
       "    <tr style=\"text-align: right;\">\n",
       "      <th></th>\n",
       "      <th>City</th>\n",
       "      <th>Country</th>\n",
       "      <th>Latitude</th>\n",
       "      <th>Longitude</th>\n",
       "      <th>Date</th>\n",
       "      <th>Cloudiness (%)</th>\n",
       "      <th>Humidity (%)</th>\n",
       "      <th>Max Temperature (°C)</th>\n",
       "      <th>Wind Speed (m/s)</th>\n",
       "    </tr>\n",
       "  </thead>\n",
       "  <tbody>\n",
       "    <tr>\n",
       "      <th>0</th>\n",
       "      <td>Hobart</td>\n",
       "      <td>AU</td>\n",
       "      <td>-42.8794</td>\n",
       "      <td>147.3294</td>\n",
       "      <td>1622657628</td>\n",
       "      <td>90</td>\n",
       "      <td>76</td>\n",
       "      <td>12.37</td>\n",
       "      <td>0.45</td>\n",
       "    </tr>\n",
       "    <tr>\n",
       "      <th>1</th>\n",
       "      <td>Saint-Philippe</td>\n",
       "      <td>RE</td>\n",
       "      <td>-21.3585</td>\n",
       "      <td>55.7679</td>\n",
       "      <td>1622657628</td>\n",
       "      <td>91</td>\n",
       "      <td>82</td>\n",
       "      <td>23.77</td>\n",
       "      <td>6.36</td>\n",
       "    </tr>\n",
       "    <tr>\n",
       "      <th>2</th>\n",
       "      <td>Gejiu</td>\n",
       "      <td>CN</td>\n",
       "      <td>23.3060</td>\n",
       "      <td>103.1635</td>\n",
       "      <td>1622657629</td>\n",
       "      <td>83</td>\n",
       "      <td>87</td>\n",
       "      <td>15.81</td>\n",
       "      <td>1.11</td>\n",
       "    </tr>\n",
       "    <tr>\n",
       "      <th>3</th>\n",
       "      <td>Acapulco de Juárez</td>\n",
       "      <td>MX</td>\n",
       "      <td>16.8634</td>\n",
       "      <td>-99.8901</td>\n",
       "      <td>1622657629</td>\n",
       "      <td>75</td>\n",
       "      <td>58</td>\n",
       "      <td>31.90</td>\n",
       "      <td>3.13</td>\n",
       "    </tr>\n",
       "    <tr>\n",
       "      <th>4</th>\n",
       "      <td>Yurgamysh</td>\n",
       "      <td>RU</td>\n",
       "      <td>55.3714</td>\n",
       "      <td>64.4656</td>\n",
       "      <td>1622657629</td>\n",
       "      <td>97</td>\n",
       "      <td>53</td>\n",
       "      <td>14.33</td>\n",
       "      <td>2.39</td>\n",
       "    </tr>\n",
       "    <tr>\n",
       "      <th>...</th>\n",
       "      <td>...</td>\n",
       "      <td>...</td>\n",
       "      <td>...</td>\n",
       "      <td>...</td>\n",
       "      <td>...</td>\n",
       "      <td>...</td>\n",
       "      <td>...</td>\n",
       "      <td>...</td>\n",
       "      <td>...</td>\n",
       "    </tr>\n",
       "    <tr>\n",
       "      <th>539</th>\n",
       "      <td>Kendal</td>\n",
       "      <td>GB</td>\n",
       "      <td>54.3268</td>\n",
       "      <td>-2.7476</td>\n",
       "      <td>1622657822</td>\n",
       "      <td>85</td>\n",
       "      <td>77</td>\n",
       "      <td>22.73</td>\n",
       "      <td>6.13</td>\n",
       "    </tr>\n",
       "    <tr>\n",
       "      <th>540</th>\n",
       "      <td>Yulara</td>\n",
       "      <td>AU</td>\n",
       "      <td>-25.2406</td>\n",
       "      <td>130.9889</td>\n",
       "      <td>1622657943</td>\n",
       "      <td>82</td>\n",
       "      <td>76</td>\n",
       "      <td>9.91</td>\n",
       "      <td>3.09</td>\n",
       "    </tr>\n",
       "    <tr>\n",
       "      <th>541</th>\n",
       "      <td>Catalina</td>\n",
       "      <td>US</td>\n",
       "      <td>32.5056</td>\n",
       "      <td>-110.9211</td>\n",
       "      <td>1622657944</td>\n",
       "      <td>76</td>\n",
       "      <td>15</td>\n",
       "      <td>34.54</td>\n",
       "      <td>0.89</td>\n",
       "    </tr>\n",
       "    <tr>\n",
       "      <th>542</th>\n",
       "      <td>Ambilobe</td>\n",
       "      <td>MG</td>\n",
       "      <td>-13.2000</td>\n",
       "      <td>49.0500</td>\n",
       "      <td>1622657944</td>\n",
       "      <td>39</td>\n",
       "      <td>76</td>\n",
       "      <td>22.21</td>\n",
       "      <td>1.79</td>\n",
       "    </tr>\n",
       "    <tr>\n",
       "      <th>543</th>\n",
       "      <td>Nhulunbuy</td>\n",
       "      <td>AU</td>\n",
       "      <td>-12.2333</td>\n",
       "      <td>136.7667</td>\n",
       "      <td>1622657944</td>\n",
       "      <td>8</td>\n",
       "      <td>94</td>\n",
       "      <td>21.34</td>\n",
       "      <td>2.57</td>\n",
       "    </tr>\n",
       "  </tbody>\n",
       "</table>\n",
       "<p>544 rows × 9 columns</p>\n",
       "</div>"
      ],
      "text/plain": [
       "                   City Country  Latitude  Longitude        Date  \\\n",
       "0                Hobart      AU  -42.8794   147.3294  1622657628   \n",
       "1        Saint-Philippe      RE  -21.3585    55.7679  1622657628   \n",
       "2                 Gejiu      CN   23.3060   103.1635  1622657629   \n",
       "3    Acapulco de Juárez      MX   16.8634   -99.8901  1622657629   \n",
       "4             Yurgamysh      RU   55.3714    64.4656  1622657629   \n",
       "..                  ...     ...       ...        ...         ...   \n",
       "539              Kendal      GB   54.3268    -2.7476  1622657822   \n",
       "540              Yulara      AU  -25.2406   130.9889  1622657943   \n",
       "541            Catalina      US   32.5056  -110.9211  1622657944   \n",
       "542            Ambilobe      MG  -13.2000    49.0500  1622657944   \n",
       "543           Nhulunbuy      AU  -12.2333   136.7667  1622657944   \n",
       "\n",
       "     Cloudiness (%)  Humidity (%)  Max Temperature (°C)  Wind Speed (m/s)  \n",
       "0                90            76                 12.37              0.45  \n",
       "1                91            82                 23.77              6.36  \n",
       "2                83            87                 15.81              1.11  \n",
       "3                75            58                 31.90              3.13  \n",
       "4                97            53                 14.33              2.39  \n",
       "..              ...           ...                   ...               ...  \n",
       "539              85            77                 22.73              6.13  \n",
       "540              82            76                  9.91              3.09  \n",
       "541              76            15                 34.54              0.89  \n",
       "542              39            76                 22.21              1.79  \n",
       "543               8            94                 21.34              2.57  \n",
       "\n",
       "[544 rows x 9 columns]"
      ]
     },
     "execution_count": 14,
     "metadata": {},
     "output_type": "execute_result"
    }
   ],
   "source": [
    "# Create Weather Data DataFrame\n",
    "weather_data = pd.DataFrame({\"City\": city_name,\n",
    "                           \"Country\": country,\n",
    "                           \"Latitude\": lat,\n",
    "                           \"Longitude\": lng,\n",
    "                           \"Date\": date,\n",
    "                           \"Cloudiness (%)\": cloudiness,\n",
    "                           \"Humidity (%)\": humidity,\n",
    "                           \"Max Temperature (°C)\": max_temp,\n",
    "                           \"Wind Speed (m/s)\": wind_speed\n",
    "                            })\n",
    "\n",
    "# Save DataFrame as CSV\n",
    "weather_data.to_csv(\"../output_data/weather_data.csv\", index=False, header=True)\n",
    "\n",
    "# Display DataFrame\n",
    "weather_data"
   ]
  },
  {
   "cell_type": "code",
   "execution_count": 16,
   "metadata": {},
   "outputs": [
    {
     "data": {
      "text/html": [
       "<div>\n",
       "<style scoped>\n",
       "    .dataframe tbody tr th:only-of-type {\n",
       "        vertical-align: middle;\n",
       "    }\n",
       "\n",
       "    .dataframe tbody tr th {\n",
       "        vertical-align: top;\n",
       "    }\n",
       "\n",
       "    .dataframe thead th {\n",
       "        text-align: right;\n",
       "    }\n",
       "</style>\n",
       "<table border=\"1\" class=\"dataframe\">\n",
       "  <thead>\n",
       "    <tr style=\"text-align: right;\">\n",
       "      <th></th>\n",
       "      <th>Lat</th>\n",
       "      <th>Lng</th>\n",
       "      <th>Max Temp</th>\n",
       "      <th>Humidity</th>\n",
       "      <th>Cloudiness</th>\n",
       "      <th>Wind Speed</th>\n",
       "      <th>Date</th>\n",
       "    </tr>\n",
       "  </thead>\n",
       "  <tbody>\n",
       "    <tr>\n",
       "      <td>count</td>\n",
       "      <td>599.000000</td>\n",
       "      <td>599.000000</td>\n",
       "      <td>599.000000</td>\n",
       "      <td>599.000000</td>\n",
       "      <td>599.000000</td>\n",
       "      <td>599.000000</td>\n",
       "      <td>5.990000e+02</td>\n",
       "    </tr>\n",
       "    <tr>\n",
       "      <td>mean</td>\n",
       "      <td>19.877028</td>\n",
       "      <td>19.568998</td>\n",
       "      <td>69.794808</td>\n",
       "      <td>69.353923</td>\n",
       "      <td>51.569282</td>\n",
       "      <td>7.979416</td>\n",
       "      <td>1.593605e+09</td>\n",
       "    </tr>\n",
       "    <tr>\n",
       "      <td>std</td>\n",
       "      <td>33.262944</td>\n",
       "      <td>91.418472</td>\n",
       "      <td>15.678452</td>\n",
       "      <td>22.704698</td>\n",
       "      <td>35.405602</td>\n",
       "      <td>5.660694</td>\n",
       "      <td>5.738815e+01</td>\n",
       "    </tr>\n",
       "    <tr>\n",
       "      <td>min</td>\n",
       "      <td>-54.800000</td>\n",
       "      <td>-179.170000</td>\n",
       "      <td>12.200000</td>\n",
       "      <td>7.000000</td>\n",
       "      <td>0.000000</td>\n",
       "      <td>0.360000</td>\n",
       "      <td>1.593605e+09</td>\n",
       "    </tr>\n",
       "    <tr>\n",
       "      <td>25%</td>\n",
       "      <td>-8.540000</td>\n",
       "      <td>-61.210000</td>\n",
       "      <td>59.000000</td>\n",
       "      <td>55.000000</td>\n",
       "      <td>20.000000</td>\n",
       "      <td>3.620000</td>\n",
       "      <td>1.593605e+09</td>\n",
       "    </tr>\n",
       "    <tr>\n",
       "      <td>50%</td>\n",
       "      <td>24.370000</td>\n",
       "      <td>24.670000</td>\n",
       "      <td>73.110000</td>\n",
       "      <td>75.000000</td>\n",
       "      <td>59.000000</td>\n",
       "      <td>6.730000</td>\n",
       "      <td>1.593605e+09</td>\n",
       "    </tr>\n",
       "    <tr>\n",
       "      <td>75%</td>\n",
       "      <td>46.585000</td>\n",
       "      <td>102.255000</td>\n",
       "      <td>80.600000</td>\n",
       "      <td>87.000000</td>\n",
       "      <td>85.000000</td>\n",
       "      <td>11.050000</td>\n",
       "      <td>1.593605e+09</td>\n",
       "    </tr>\n",
       "    <tr>\n",
       "      <td>max</td>\n",
       "      <td>78.220000</td>\n",
       "      <td>179.320000</td>\n",
       "      <td>116.600000</td>\n",
       "      <td>100.000000</td>\n",
       "      <td>100.000000</td>\n",
       "      <td>42.500000</td>\n",
       "      <td>1.593605e+09</td>\n",
       "    </tr>\n",
       "  </tbody>\n",
       "</table>\n",
       "</div>"
      ],
      "text/plain": [
       "              Lat         Lng    Max Temp    Humidity  Cloudiness  Wind Speed  \\\n",
       "count  599.000000  599.000000  599.000000  599.000000  599.000000  599.000000   \n",
       "mean    19.877028   19.568998   69.794808   69.353923   51.569282    7.979416   \n",
       "std     33.262944   91.418472   15.678452   22.704698   35.405602    5.660694   \n",
       "min    -54.800000 -179.170000   12.200000    7.000000    0.000000    0.360000   \n",
       "25%     -8.540000  -61.210000   59.000000   55.000000   20.000000    3.620000   \n",
       "50%     24.370000   24.670000   73.110000   75.000000   59.000000    6.730000   \n",
       "75%     46.585000  102.255000   80.600000   87.000000   85.000000   11.050000   \n",
       "max     78.220000  179.320000  116.600000  100.000000  100.000000   42.500000   \n",
       "\n",
       "               Date  \n",
       "count  5.990000e+02  \n",
       "mean   1.593605e+09  \n",
       "std    5.738815e+01  \n",
       "min    1.593605e+09  \n",
       "25%    1.593605e+09  \n",
       "50%    1.593605e+09  \n",
       "75%    1.593605e+09  \n",
       "max    1.593605e+09  "
      ]
     },
     "execution_count": 16,
     "metadata": {},
     "output_type": "execute_result"
    }
   ],
   "source": []
  },
  {
   "cell_type": "markdown",
   "metadata": {},
   "source": [
    "## Inspect the data and remove the cities where the humidity > 100%.\n",
    "----\n",
    "Skip this step if there are no cities that have humidity > 100%. "
   ]
  },
  {
   "cell_type": "code",
   "execution_count": 15,
   "metadata": {},
   "outputs": [
    {
     "data": {
      "text/html": [
       "<div>\n",
       "<style scoped>\n",
       "    .dataframe tbody tr th:only-of-type {\n",
       "        vertical-align: middle;\n",
       "    }\n",
       "\n",
       "    .dataframe tbody tr th {\n",
       "        vertical-align: top;\n",
       "    }\n",
       "\n",
       "    .dataframe thead th {\n",
       "        text-align: right;\n",
       "    }\n",
       "</style>\n",
       "<table border=\"1\" class=\"dataframe\">\n",
       "  <thead>\n",
       "    <tr style=\"text-align: right;\">\n",
       "      <th></th>\n",
       "      <th>City</th>\n",
       "      <th>Country</th>\n",
       "      <th>Latitude</th>\n",
       "      <th>Longitude</th>\n",
       "      <th>Date</th>\n",
       "      <th>Cloudiness (%)</th>\n",
       "      <th>Humidity (%)</th>\n",
       "      <th>Max Temperature (°C)</th>\n",
       "      <th>Wind Speed (m/s)</th>\n",
       "    </tr>\n",
       "  </thead>\n",
       "  <tbody>\n",
       "  </tbody>\n",
       "</table>\n",
       "</div>"
      ],
      "text/plain": [
       "Empty DataFrame\n",
       "Columns: [City, Country, Latitude, Longitude, Date, Cloudiness (%), Humidity (%), Max Temperature (°C), Wind Speed (m/s)]\n",
       "Index: []"
      ]
     },
     "execution_count": 15,
     "metadata": {},
     "output_type": "execute_result"
    }
   ],
   "source": [
    "weather_data.loc[weather_data[\"Humidity (%)\"] > 100]"
   ]
  },
  {
   "cell_type": "code",
   "execution_count": 16,
   "metadata": {},
   "outputs": [
    {
     "name": "stdout",
     "output_type": "stream",
     "text": [
      "There are no cities where humidity > 100%\n"
     ]
    }
   ],
   "source": [
    "#  Get the indices of cities that have humidity over 100%.\n",
    "print(\"There are no cities where humidity > 100%\")"
   ]
  },
  {
   "cell_type": "code",
   "execution_count": null,
   "metadata": {},
   "outputs": [],
   "source": [
    "\n"
   ]
  },
  {
   "cell_type": "markdown",
   "metadata": {},
   "source": [
    "## Plotting the Data\n",
    "* Use proper labeling of the plots using plot titles (including date of analysis) and axes labels.\n",
    "* Save the plotted figures as .pngs."
   ]
  },
  {
   "cell_type": "markdown",
   "metadata": {},
   "source": [
    "## Latitude vs. Temperature Plot"
   ]
  },
  {
   "cell_type": "code",
   "execution_count": 18,
   "metadata": {
    "scrolled": true
   },
   "outputs": [
    {
     "data": {
      "image/png": "[encoded data removed]",
      "text/plain": [
       "<Figure size 432x288 with 1 Axes>"
      ]
     },
     "metadata": {
      "needs_background": "light"
     },
     "output_type": "display_data"
    }
   ],
   "source": [
    "# Build scatter plot\n",
    "plt.scatter(weather_data[\"Latitude\"], weather_data[\"Max Temperature (°C)\"], marker=\"o\")\n",
    "\n",
    "# Add graph properties\n",
    "plt.title(f'City Latitude vs. Max Temperature {time.strftime(\"%d/%m/%Y\")}')\n",
    "plt.ylabel(\"Temperature (°C)\")\n",
    "plt.xlabel(\"Latitude\")\n",
    "plt.grid(True)\n",
    "\n",
    "# Save the figure\n",
    "plt.savefig(\"../output_data/city_latitude_vs_max_temperature.png\")\n",
    "\n",
    "# Show plot\n",
    "plt.show()"
   ]
  },
  {
   "cell_type": "markdown",
   "metadata": {},
   "source": [
    "## Latitude vs. Humidity Plot"
   ]
  },
  {
   "cell_type": "code",
   "execution_count": 19,
   "metadata": {},
   "outputs": [
    {
     "data": {
      "image/png": "[encoded data removed]",
      "text/plain": [
       "<Figure size 432x288 with 1 Axes>"
      ]
     },
     "metadata": {
      "needs_background": "light"
     },
     "output_type": "display_data"
    }
   ],
   "source": [
    "# Build scatter plot\n",
    "plt.scatter(weather_data[\"Latitude\"], weather_data[\"Humidity (%)\"], marker=\"o\")\n",
    "\n",
    "# Add graph properties\n",
    "plt.title(f'City Latitude vs. Humidity {time.strftime(\"%d/%m/%Y\")}')\n",
    "plt.ylabel(\"Humidity (%)\")\n",
    "plt.xlabel(\"Latitude\")\n",
    "plt.grid(True)\n",
    "\n",
    "# Save the figure\n",
    "plt.savefig(\"../output_data/city_latitude_vs_humidity.png\")\n",
    "\n",
    "# Show plot\n",
    "plt.show()"
   ]
  },
  {
   "cell_type": "markdown",
   "metadata": {},
   "source": [
    "## Latitude vs. Cloudiness Plot"
   ]
  },
  {
   "cell_type": "code",
   "execution_count": 20,
   "metadata": {},
   "outputs": [
    {
     "data": {
      "image/png": "[encoded data removed]",
      "text/plain": [
       "<Figure size 432x288 with 1 Axes>"
      ]
     },
     "metadata": {
      "needs_background": "light"
     },
     "output_type": "display_data"
    }
   ],
   "source": [
    "# Build scatter plot\n",
    "plt.scatter(weather_data[\"Latitude\"], weather_data[\"Cloudiness (%)\"], marker=\"o\")\n",
    "\n",
    "# Add graph properties\n",
    "plt.title(f'City Latitude vs. Cloudiness {time.strftime(\"%d/%m/%Y\")}')\n",
    "plt.ylabel(\"Cloudiness (%)\")\n",
    "plt.xlabel(\"Latitude\")\n",
    "plt.grid(True)\n",
    "\n",
    "# Save the figure\n",
    "plt.savefig(\"../output_data/city_latitude_vs_cloudiness.png\")\n",
    "\n",
    "# Show plot\n",
    "plt.show()"
   ]
  },
  {
   "cell_type": "markdown",
   "metadata": {},
   "source": [
    "## Latitude vs. Wind Speed Plot"
   ]
  },
  {
   "cell_type": "code",
   "execution_count": 21,
   "metadata": {},
   "outputs": [
    {
     "data": {
      "image/png": "[encoded data removed]",
      "text/plain": [
       "<Figure size 432x288 with 1 Axes>"
      ]
     },
     "metadata": {
      "needs_background": "light"
     },
     "output_type": "display_data"
    }
   ],
   "source": [
    "# Build scatter plot\n",
    "plt.scatter(weather_data[\"Latitude\"], weather_data[\"Wind Speed (m/s)\"], marker=\"o\")\n",
    "\n",
    "# Incorporate the other graph properties\n",
    "plt.title(f'City Latitude vs. Wind Speed {time.strftime(\"%d/%m/%Y\")}')\n",
    "plt.ylabel(\"Wind Speed (m/s)\")\n",
    "plt.xlabel(\"Latitude\")\n",
    "plt.grid(True)\n",
    "\n",
    "# Save the figure\n",
    "plt.savefig(\"../output_data/city_latitude_vs_wind_speed.png\")\n",
    "\n",
    "# Show plot\n",
    "plt.show()"
   ]
  },
  {
   "cell_type": "markdown",
   "metadata": {},
   "source": [
    "## Linear Regression"
   ]
  },
  {
   "cell_type": "code",
   "execution_count": 24,
   "metadata": {},
   "outputs": [],
   "source": []
  },
  {
   "cell_type": "markdown",
   "metadata": {},
   "source": [
    "####  Northern Hemisphere - Max Temp vs. Latitude Linear Regression"
   ]
  },
  {
   "cell_type": "code",
   "execution_count": 22,
   "metadata": {},
   "outputs": [
    {
     "name": "stdout",
     "output_type": "stream",
     "text": [
      "The r-value is: -0.7563558291549849\n"
     ]
    },
    {
     "data": {
      "image/png": "[encoded data removed]",
      "text/plain": [
       "<Figure size 432x288 with 1 Axes>"
      ]
     },
     "metadata": {
      "needs_background": "light"
     },
     "output_type": "display_data"
    }
   ],
   "source": [
    "# Add the linear regression equation and line to plot\n",
    "x_values = weather_data[\"Latitude\"].loc[weather_data[\"Latitude\"] >= 0]\n",
    "y_values = weather_data[\"Max Temperature (°C)\"].loc[weather_data[\"Latitude\"] >= 0]\n",
    "(slope, intercept, rvalue, pvalue, stderr) = linregress(x_values, y_values)\n",
    "print(f'The r-value is: {rvalue}')\n",
    "regress_values = x_values * slope + intercept\n",
    "line_eq = \"y = \" + str(round(slope,2)) + \"x + \" + str(round(intercept,2))\n",
    "plt.scatter(x_values,y_values)\n",
    "plt.plot(x_values,regress_values,\"r-\")\n",
    "plt.annotate(line_eq,(1,1),fontsize=15,color=\"red\")\n",
    "plt.xlabel(\"Latitude\")\n",
    "plt.ylabel(\"Max Temperature (°C)\")\n",
    "plt.show()"
   ]
  },
  {
   "cell_type": "markdown",
   "metadata": {},
   "source": [
    "####  Southern Hemisphere - Max Temp vs. Latitude Linear Regression"
   ]
  },
  {
   "cell_type": "code",
   "execution_count": 23,
   "metadata": {},
   "outputs": [
    {
     "name": "stdout",
     "output_type": "stream",
     "text": [
      "The r-value is: 0.7804009383933656\n"
     ]
    },
    {
     "data": {
      "image/png": "[encoded data removed]",
      "text/plain": [
       "<Figure size 432x288 with 1 Axes>"
      ]
     },
     "metadata": {
      "needs_background": "light"
     },
     "output_type": "display_data"
    }
   ],
   "source": [
    "\n",
    "# Add the linear regression equation and line to plot\n",
    "x_values = weather_data[\"Latitude\"].loc[weather_data[\"Latitude\"] < 0]\n",
    "y_values = weather_data[\"Max Temperature (°C)\"].loc[weather_data[\"Latitude\"] < 0]\n",
    "(slope, intercept, rvalue, pvalue, stderr) = linregress(x_values, y_values)\n",
    "print(f'The r-value is: {rvalue}')\n",
    "regress_values = x_values * slope + intercept\n",
    "line_eq = \"y = \" + str(round(slope,2)) + \"x + \" + str(round(intercept,2))\n",
    "plt.scatter(x_values,y_values)\n",
    "plt.plot(x_values,regress_values,\"r-\")\n",
    "plt.annotate(line_eq,(-55,33),fontsize=15,color=\"red\")\n",
    "plt.xlabel(\"Latitude\")\n",
    "plt.ylabel(\"Max Temperature (°C)\")\n",
    "plt.show()"
   ]
  },
  {
   "cell_type": "markdown",
   "metadata": {},
   "source": [
    "####  Northern Hemisphere - Humidity (%) vs. Latitude Linear Regression"
   ]
  },
  {
   "cell_type": "code",
   "execution_count": 24,
   "metadata": {},
   "outputs": [
    {
     "name": "stdout",
     "output_type": "stream",
     "text": [
      "The r-value is: 0.06192120612138706\n"
     ]
    },
    {
     "data": {
      "image/png": "[encoded data removed]",
      "text/plain": [
       "<Figure size 432x288 with 1 Axes>"
      ]
     },
     "metadata": {
      "needs_background": "light"
     },
     "output_type": "display_data"
    }
   ],
   "source": [
    "# Add the linear regression equation and line to plot\n",
    "x_values = weather_data[\"Latitude\"].loc[weather_data[\"Latitude\"] >= 0]\n",
    "y_values = weather_data[\"Humidity (%)\"].loc[weather_data[\"Latitude\"] >= 0]\n",
    "(slope, intercept, rvalue, pvalue, stderr) = linregress(x_values, y_values)\n",
    "print(f'The r-value is: {rvalue}')\n",
    "regress_values = x_values * slope + intercept\n",
    "line_eq = \"y = \" + str(round(slope,2)) + \"x + \" + str(round(intercept,2))\n",
    "plt.scatter(x_values,y_values)\n",
    "plt.plot(x_values,regress_values,\"r-\")\n",
    "plt.annotate(line_eq,(45,1),fontsize=15,color=\"red\")\n",
    "plt.xlabel(\"Latitude\")\n",
    "plt.ylabel(\"Humidity (%)\")\n",
    "plt.show()"
   ]
  },
  {
   "cell_type": "markdown",
   "metadata": {},
   "source": [
    "####  Southern Hemisphere - Humidity (%) vs. Latitude Linear Regression"
   ]
  },
  {
   "cell_type": "code",
   "execution_count": 25,
   "metadata": {},
   "outputs": [
    {
     "name": "stdout",
     "output_type": "stream",
     "text": [
      "The r-value is: -0.03665019936295573\n"
     ]
    },
    {
     "data": {
      "image/png": "[encoded data removed]",
      "text/plain": [
       "<Figure size 432x288 with 1 Axes>"
      ]
     },
     "metadata": {
      "needs_background": "light"
     },
     "output_type": "display_data"
    }
   ],
   "source": [
    "# Add the linear regression equation and line to plot\n",
    "x_values = weather_data[\"Latitude\"].loc[weather_data[\"Latitude\"] < 0]\n",
    "y_values = weather_data[\"Humidity (%)\"].loc[weather_data[\"Latitude\"] < 0]\n",
    "(slope, intercept, rvalue, pvalue, stderr) = linregress(x_values, y_values)\n",
    "print(f'The r-value is: {rvalue}')\n",
    "regress_values = x_values * slope + intercept\n",
    "line_eq = \"y = \" + str(round(slope,2)) + \"x + \" + str(round(intercept,2))\n",
    "plt.scatter(x_values,y_values)\n",
    "plt.plot(x_values,regress_values,\"r-\")\n",
    "plt.annotate(line_eq,(-55,14),fontsize=15,color=\"red\")\n",
    "plt.xlabel(\"Latitude\")\n",
    "plt.ylabel(\"Humidity (%)\")\n",
    "plt.show()\n"
   ]
  },
  {
   "cell_type": "markdown",
   "metadata": {},
   "source": [
    "####  Northern Hemisphere - Cloudiness (%) vs. Latitude Linear Regression"
   ]
  },
  {
   "cell_type": "code",
   "execution_count": 26,
   "metadata": {},
   "outputs": [
    {
     "name": "stdout",
     "output_type": "stream",
     "text": [
      "The r-value is: -0.07082373590957451\n"
     ]
    },
    {
     "data": {
      "image/png": "[encoded data removed]",
      "text/plain": [
       "<Figure size 432x288 with 1 Axes>"
      ]
     },
     "metadata": {
      "needs_background": "light"
     },
     "output_type": "display_data"
    }
   ],
   "source": [
    "# Add the linear regression equation and line to plot\n",
    "x_values = weather_data[\"Latitude\"].loc[weather_data[\"Latitude\"] >= 0]\n",
    "y_values = weather_data[\"Cloudiness (%)\"].loc[weather_data[\"Latitude\"] >= 0]\n",
    "(slope, intercept, rvalue, pvalue, stderr) = linregress(x_values, y_values)\n",
    "print(f'The r-value is: {rvalue}')\n",
    "regress_values = x_values * slope + intercept\n",
    "line_eq = \"y = \" + str(round(slope,2)) + \"x + \" + str(round(intercept,2))\n",
    "plt.scatter(x_values,y_values)\n",
    "plt.plot(x_values,regress_values,\"r-\")\n",
    "plt.annotate(line_eq,(1,1),fontsize=15,color=\"red\")\n",
    "plt.xlabel(\"Latitude\")\n",
    "plt.ylabel(\"Cloudiness (%)\")\n",
    "plt.show()"
   ]
  },
  {
   "cell_type": "markdown",
   "metadata": {},
   "source": [
    "####  Southern Hemisphere - Cloudiness (%) vs. Latitude Linear Regression"
   ]
  },
  {
   "cell_type": "code",
   "execution_count": 27,
   "metadata": {},
   "outputs": [
    {
     "name": "stdout",
     "output_type": "stream",
     "text": [
      "The r-value is: 0.04651572793064384\n"
     ]
    },
    {
     "data": {
      "image/png": "[encoded data removed]",
      "text/plain": [
       "<Figure size 432x288 with 1 Axes>"
      ]
     },
     "metadata": {
      "needs_background": "light"
     },
     "output_type": "display_data"
    }
   ],
   "source": [
    "# Add the linear regression equation and line to plot\n",
    "x_values = weather_data[\"Latitude\"].loc[weather_data[\"Latitude\"] < 0]\n",
    "y_values = weather_data[\"Cloudiness (%)\"].loc[weather_data[\"Latitude\"] < 0]\n",
    "(slope, intercept, rvalue, pvalue, stderr) = linregress(x_values, y_values)\n",
    "print(f'The r-value is: {rvalue}')\n",
    "regress_values = x_values * slope + intercept\n",
    "line_eq = \"y = \" + str(round(slope,2)) + \"x + \" + str(round(intercept,2))\n",
    "plt.scatter(x_values,y_values)\n",
    "plt.plot(x_values,regress_values,\"r-\")\n",
    "plt.annotate(line_eq,(-55,10),fontsize=15,color=\"red\")\n",
    "plt.xlabel(\"Latitude\")\n",
    "plt.ylabel(\"Cloudiness (%)\")\n",
    "plt.show()"
   ]
  },
  {
   "cell_type": "markdown",
   "metadata": {},
   "source": [
    "####  Northern Hemisphere - Wind Speed (mph) vs. Latitude Linear Regression"
   ]
  },
  {
   "cell_type": "code",
   "execution_count": 28,
   "metadata": {},
   "outputs": [
    {
     "name": "stdout",
     "output_type": "stream",
     "text": [
      "The r-value is: -0.015444666035325764\n"
     ]
    },
    {
     "data": {
      "image/png": "[encoded data removed]",
      "text/plain": [
       "<Figure size 432x288 with 1 Axes>"
      ]
     },
     "metadata": {
      "needs_background": "light"
     },
     "output_type": "display_data"
    }
   ],
   "source": [
    "# Add the linear regression equation and line to plot\n",
    "x_values = weather_data[\"Latitude\"].loc[weather_data[\"Latitude\"] >= 0]\n",
    "y_values = weather_data[\"Wind Speed (m/s)\"].loc[weather_data[\"Latitude\"] >= 0]\n",
    "(slope, intercept, rvalue, pvalue, stderr) = linregress(x_values, y_values)\n",
    "print(f'The r-value is: {rvalue}')\n",
    "regress_values = x_values * slope + intercept\n",
    "line_eq = \"y = \" + str(round(slope,2)) + \"x + \" + str(round(intercept,2))\n",
    "plt.scatter(x_values,y_values)\n",
    "plt.plot(x_values,regress_values,\"r-\")\n",
    "plt.annotate(line_eq,(0,11),fontsize=15,color=\"red\")\n",
    "plt.xlabel(\"Latitude\")\n",
    "plt.ylabel(\"Wind Speed (m/s)\")\n",
    "plt.show()"
   ]
  },
  {
   "cell_type": "markdown",
   "metadata": {},
   "source": [
    "####  Southern Hemisphere - Wind Speed (mph) vs. Latitude Linear Regression"
   ]
  },
  {
   "cell_type": "code",
   "execution_count": 29,
   "metadata": {},
   "outputs": [
    {
     "name": "stdout",
     "output_type": "stream",
     "text": [
      "The r-value is: -0.025561562958072086\n"
     ]
    },
    {
     "data": {
      "image/png": "[encoded data removed]",
      "text/plain": [
       "<Figure size 432x288 with 1 Axes>"
      ]
     },
     "metadata": {
      "needs_background": "light"
     },
     "output_type": "display_data"
    }
   ],
   "source": [
    "# Add the linear regression equation and line to plot\n",
    "x_values = weather_data[\"Latitude\"].loc[weather_data[\"Latitude\"] < 0]\n",
    "y_values = weather_data[\"Wind Speed (m/s)\"].loc[weather_data[\"Latitude\"] < 0]\n",
    "(slope, intercept, rvalue, pvalue, stderr) = linregress(x_values, y_values)\n",
    "print(f'The r-value is: {rvalue}')\n",
    "regress_values = x_values * slope + intercept\n",
    "line_eq = \"y = \" + str(round(slope,2)) + \"x + \" + str(round(intercept,2))\n",
    "plt.scatter(x_values,y_values)\n",
    "plt.plot(x_values,regress_values,\"r-\")\n",
    "plt.annotate(line_eq,(-55,11),fontsize=15,color=\"red\")\n",
    "plt.xlabel(\"Latitude\")\n",
    "plt.ylabel(\"Wind Speed (m/s)\")\n",
    "plt.show()"
   ]
  },
  {
   "cell_type": "code",
   "execution_count": null,
   "metadata": {},
   "outputs": [],
   "source": []
  }
 ],
 "metadata": {
  "anaconda-cloud": {},
  "kernel_info": {
   "name": "python3"
  },
  "kernelspec": {
   "display_name": "Python [conda env:PythonData] *",
   "language": "python",
   "name": "conda-env-PythonData-py"
  },
  "language_info": {
   "codemirror_mode": {
    "name": "ipython",
    "version": 3
   },
   "file_extension": ".py",
   "mimetype": "text/x-python",
   "name": "python",
   "nbconvert_exporter": "python",
   "pygments_lexer": "ipython3",
   "version": "3.8.5"
  },
  "latex_envs": {
   "LaTeX_envs_menu_present": true,
   "autoclose": false,
   "autocomplete": true,
   "bibliofile": "biblio.bib",
   "cite_by": "apalike",
   "current_citInitial": 1,
   "eqLabelWithNumbers": true,
   "eqNumInitial": 1,
   "hotkeys": {
    "equation": "Ctrl-E",
    "itemize": "Ctrl-I"
   },
   "labels_anchors": false,
   "latex_user_defs": false,
   "report_style_numbering": false,
   "user_envs_cfg": false
  },
  "nteract": {
   "version": "0.12.3"
  }
 },
 "nbformat": 4,
 "nbformat_minor": 2
}
